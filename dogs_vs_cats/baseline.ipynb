{
 "cells": [
  {
   "cell_type": "code",
   "execution_count": 6,
   "id": "cfea3cfa-0e0e-44b3-b5a8-be5305216e99",
   "metadata": {},
   "outputs": [
    {
     "name": "stdout",
     "output_type": "stream",
     "text": [
      "Downloading dogs-vs-cats.zip to /home/a.makarchuk@rit.va/kaggle/competitions/dogs-vs-cats\n",
      "100%|███████████████████████████████████████▉| 812M/812M [13:42<00:00, 1.15MB/s]\n",
      "100%|████████████████████████████████████████| 812M/812M [13:42<00:00, 1.03MB/s]\n"
     ]
    }
   ],
   "source": [
    "!kaggle competitions download -c dogs-vs-cats\n"
   ]
  },
  {
   "cell_type": "code",
   "execution_count": 2,
   "id": "f1dfefec-ebf1-4f7f-9188-2f4508d2d930",
   "metadata": {},
   "outputs": [
    {
     "name": "stdout",
     "output_type": "stream",
     "text": [
      "/home/a.makarchuk@rit.va/Desktop/kaggle-CV-best11/dogs_vs_cats\n"
     ]
    }
   ],
   "source": [
    "!pwd"
   ]
  },
  {
   "cell_type": "code",
   "execution_count": null,
   "id": "0588280f-214d-4825-8ab6-f588bd2757dc",
   "metadata": {},
   "outputs": [],
   "source": []
  }
 ],
 "metadata": {
  "kernelspec": {
   "display_name": "kaggle_cv_best11",
   "language": "python",
   "name": "kaggle_cv_best11"
  },
  "language_info": {
   "codemirror_mode": {
    "name": "ipython",
    "version": 3
   },
   "file_extension": ".py",
   "mimetype": "text/x-python",
   "name": "python",
   "nbconvert_exporter": "python",
   "pygments_lexer": "ipython3",
   "version": "3.11.9"
  }
 },
 "nbformat": 4,
 "nbformat_minor": 5
}
